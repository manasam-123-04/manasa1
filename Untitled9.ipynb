{
 "cells": [
  {
   "cell_type": "code",
   "execution_count": 1,
   "id": "7b44445a",
   "metadata": {},
   "outputs": [],
   "source": [
    "def generate_time_series(batch_size,n_steps):\n",
    "    freq1,freq2,offset1,offset2=np.random.rand(4,batch_size,1)\n",
    "    time=np.linspace(0,1,n_steps)\n",
    "    series=0.5*np.sin((time-offsets1)*(freq1*10+10))\n",
    "    series+=0.2*np.sin((time-offsets2)*(freq*20+20))\n",
    "    series+=0.1*(np.random.rand(batch_size,n_steps)-0.5)\n",
    "    return series[...,np.newaxis].astype(np.float32)"
   ]
  },
  {
   "cell_type": "code",
   "execution_count": null,
   "id": "22b3ea6b",
   "metadata": {},
   "outputs": [],
   "source": [
    "np.random.seed(42)\n",
    "n_steps=50\n",
    "series=generate_time_series(10000,n_steps+1)\n",
    "X_train,y_train=series[:7000, :n_steps]"
   ]
  },
  {
   "cell_type": "code",
   "execution_count": 2,
   "id": "b57392bf",
   "metadata": {},
   "outputs": [],
   "source": [
    "def plot_series(series,y=None,y_pred=None,x_label=\"$t$\",y_label=\"$x(t)$\"):\n",
    "    plt.plot(series,\",-\")\n",
    "    if y is not None:\n",
    "        plt.plot(n_steps,y,\"bx\",markersize=10)\n",
    "    if y_pred is not None:\n",
    "        plt.plot(n_steps, y_pred,\"ro\")\n",
    "        plt.grid(True)\n",
    "    if x_label:\n",
    "        plt.xlabel(x_label,fontsize=16)\n",
    "    if y_label:\n",
    "        plt.ylabel(y_label,fontsize=16,rotation=0)\n",
    "    plt.hlines(0,0,100,linewidth=1)\n",
    "    plt.axis([0,n_steps + 1, -1, 1])      "
   ]
  },
  {
   "cell_type": "code",
   "execution_count": null,
   "id": "29069dde",
   "metadata": {},
   "outputs": [],
   "source": [
    "fig, axes = plt.subplots(nrows=1, ncols=3, sharey=True, figsize=(12,4))"
   ]
  }
 ],
 "metadata": {
  "kernelspec": {
   "display_name": "Python 3 (ipykernel)",
   "language": "python",
   "name": "python3"
  },
  "language_info": {
   "codemirror_mode": {
    "name": "ipython",
    "version": 3
   },
   "file_extension": ".py",
   "mimetype": "text/x-python",
   "name": "python",
   "nbconvert_exporter": "python",
   "pygments_lexer": "ipython3",
   "version": "3.11.5"
  }
 },
 "nbformat": 4,
 "nbformat_minor": 5
}
